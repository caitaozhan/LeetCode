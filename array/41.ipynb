{
 "cells": [
  {
   "cell_type": "markdown",
   "metadata": {},
   "source": [
    "Given an unsorted integer array, find the smallest missing positive integer.\n",
    "\n",
    "```\n",
    "Example 1:\n",
    "Input: [1,2,0]\n",
    "Output: 3\n",
    "\n",
    "Example 2:\n",
    "Input: [3,4,-1,1]\n",
    "Output: 2\n",
    "\n",
    "Example 3:\n",
    "Input: [7,8,9,11,12]\n",
    "Output: 1\n",
    "```\n",
    "Note:\n",
    "\n",
    "Your algorithm should run in O(n) time and uses constant extra space."
   ]
  },
  {
   "cell_type": "code",
   "execution_count": 68,
   "metadata": {},
   "outputs": [],
   "source": [
    "class Solution:\n",
    "    ''' note that the first missing positive number is between [1, size+1]\n",
    "        this solution is inspired from bucket sort, where each bucket contains only one element\n",
    "    '''\n",
    "    def firstMissingPositive(self, nums):\n",
    "        \"\"\"\n",
    "        :type nums: List[int]\n",
    "        :rtype: int\n",
    "        \"\"\"\n",
    "        i = 0\n",
    "        size = len(nums)\n",
    "        while i < size:\n",
    "            if nums[i] == i+1:  # nums[i] is in the correct bucket. note the relationship between key value and index\n",
    "                i = i + 1\n",
    "            elif nums[i] < 1 or nums[i] > size-1:  # ignore out-of-range numbers \n",
    "                i = i + 1\n",
    "            else:\n",
    "                num = nums[i]\n",
    "                if nums[i] == nums[num-1]:  \n",
    "                    i = i + 1                      # ignore duplicates, i.e. nums[i] == nums[num-1]\n",
    "                else:\n",
    "                    nums[i], nums[num-1] = nums[num-1], nums[i] # swap, so that nums[i] is in the correct bucket\n",
    "\n",
    "        for i in range(size):\n",
    "            if nums[i] != i+1:                     # find the first incorrect bucket\n",
    "                return i+1\n",
    "\n",
    "        return size+1"
   ]
  },
  {
   "cell_type": "code",
   "execution_count": 69,
   "metadata": {},
   "outputs": [
    {
     "data": {
      "text/plain": [
       "[1, 9, 8, -2, 0, -2, 7, 1, -1, 3, 4, 7, 7, -5, 0, 3, 0, 7, 7, 0]"
      ]
     },
     "execution_count": 69,
     "metadata": {},
     "output_type": "execute_result"
    }
   ],
   "source": [
    "#nums = [1,2,0]\n",
    "#nums = [3,4,-1,1]\n",
    "#nums = [7,8,9,11,12]\n",
    "#nums = [-10, -1, -5, -2, 7, 10, -2, 7, -3, -6]\n",
    "import random\n",
    "nums = []\n",
    "for _ in range(20):\n",
    "    nums.append(random.randint(-5, 10))\n",
    "nums"
   ]
  },
  {
   "cell_type": "code",
   "execution_count": 70,
   "metadata": {},
   "outputs": [
    {
     "data": {
      "text/plain": [
       "2"
      ]
     },
     "execution_count": 70,
     "metadata": {},
     "output_type": "execute_result"
    }
   ],
   "source": [
    "s = Solution()\n",
    "s.firstMissingPositive(nums)"
   ]
  },
  {
   "cell_type": "code",
   "execution_count": null,
   "metadata": {},
   "outputs": [],
   "source": []
  }
 ],
 "metadata": {
  "kernelspec": {
   "display_name": "Python 3",
   "language": "python",
   "name": "python3"
  },
  "language_info": {
   "codemirror_mode": {
    "name": "ipython",
    "version": 3
   },
   "file_extension": ".py",
   "mimetype": "text/x-python",
   "name": "python",
   "nbconvert_exporter": "python",
   "pygments_lexer": "ipython3",
   "version": "3.6.7"
  }
 },
 "nbformat": 4,
 "nbformat_minor": 2
}
