{
 "cells": [
  {
   "cell_type": "markdown",
   "metadata": {
    "collapsed": true
   },
   "source": [
    "# 题目： Longest Palindromic Substring\n",
    "\n",
    "Given a string s, find the longest palindromic substring in s. You may assume that the maximum length of s is 1000.\n",
    "\n",
    "Input: \"babad\"\n",
    "\n",
    "Output: \"bab\"\n",
    "\n",
    "Note: \"aba\" is also a valid answer.\n",
    "\n",
    "Input: \"cbbd\"\n",
    "\n",
    "Output: \"bb\""
   ]
  },
  {
   "cell_type": "markdown",
   "metadata": {},
   "source": [
    "# 题解：1 动态规划\n",
    "\n",
    "input: s[ 1,...,n ]\n",
    "\n",
    "subproblem: dp[ i, j ]: 1 if s[ i,j ] is palindrome; othrewise 0\n",
    "\n",
    "equation: dp[ i,j ] = 1 iff dp[ i+1 ][ j-1 ] == 1 && s[ i ] = s[ j ]\n",
    "\n",
    "answer: s[ i,j ] with largest j-i"
   ]
  },
  {
   "cell_type": "code",
   "execution_count": 22,
   "metadata": {},
   "outputs": [],
   "source": [
    "def myprint(dp):\n",
    "    for l in dp:\n",
    "        print(l)"
   ]
  },
  {
   "cell_type": "code",
   "execution_count": 93,
   "metadata": {},
   "outputs": [],
   "source": [
    "class Solution:\n",
    "    def longestPalindrome(self, s):\n",
    "        \"\"\"\n",
    "        :type s: str\n",
    "        :rtype: str\n",
    "        \"\"\"\n",
    "        answer = (0, 0)\n",
    "\n",
    "        size = len(s)\n",
    "        dp = [[0 for i in range(size)] for j in range(size)]\n",
    "        \n",
    "        for i in range(size):\n",
    "            dp[i][i] = 1\n",
    "\n",
    "        for i in range(size-1):\n",
    "            dp[i][i+1] = 1 if s[i] == s[i+1] else 0\n",
    "            if dp[i][i+1] == 1:\n",
    "                answer = (i, i+1) if 1 > answer[1]-answer[0] else answer\n",
    "        \n",
    "        for length in range(2, size):\n",
    "            for i in range(0, size):\n",
    "                j = i + length\n",
    "                if i+1 >= size or j >= size:\n",
    "                    continue\n",
    "                \n",
    "                if dp[i+1][j-1] == 1 and s[i] == s[j]:\n",
    "                    dp[i][j] = 1\n",
    "                    answer = (i, j) if j-i > answer[1]-answer[0] else answer\n",
    "                else:\n",
    "                    dp[i][j] = 0\n",
    "                    \n",
    "        return s[answer[0]:answer[1]+1]"
   ]
  },
  {
   "cell_type": "code",
   "execution_count": 94,
   "metadata": {},
   "outputs": [
    {
     "data": {
      "text/plain": [
       "'cdzdc'"
      ]
     },
     "execution_count": 94,
     "metadata": {},
     "output_type": "execute_result"
    }
   ],
   "source": [
    "s = 'babad'\n",
    "s = 'cbbd'\n",
    "s = 'abcdzdcab'\n",
    "\n",
    "solution = Solution() \n",
    "solution.longestPalindrome(s)"
   ]
  },
  {
   "cell_type": "markdown",
   "metadata": {},
   "source": [
    "# 1 一个时间复杂度同为O(n^2)，但是空间复杂度为O(1)的算法，叫做 expand_around_center\n",
    "\n",
    "## 因为空间复杂度从O(n^2)降为O(1)，这个算法快很多。可能是节省了开辟二维数组的时间。时间从七八千毫秒，降到八百多毫秒"
   ]
  },
  {
   "cell_type": "code",
   "execution_count": 125,
   "metadata": {},
   "outputs": [],
   "source": [
    "class Solution:\n",
    "    def longestPalindrome(self, s):\n",
    "        \"\"\"\n",
    "        :type s: str\n",
    "        :rtype: str\n",
    "        \"\"\"\n",
    "        start = end = 0\n",
    "        size = len(s)\n",
    "        \n",
    "        for i in range(size):\n",
    "            len1 = Solution.expand_around_center(s, i, i)\n",
    "            len2 = Solution.expand_around_center(s, i, i+1)\n",
    "            length = max(len1, len2)\n",
    "            if length > end-start+1:\n",
    "                start = i - int((length-1)/2)\n",
    "                end = i + int(length/2)\n",
    "        \n",
    "        return s[start:end+1]\n",
    "    \n",
    "    @staticmethod\n",
    "    def expand_around_center(s, left, right):\n",
    "        size = len(s)\n",
    "        while left>=0 and right <size and s[left] == s[right]:\n",
    "            left -= 1\n",
    "            right += 1\n",
    "        return right-left-1\n",
    "        "
   ]
  },
  {
   "cell_type": "code",
   "execution_count": 128,
   "metadata": {},
   "outputs": [
    {
     "data": {
      "text/plain": [
       "'bab'"
      ]
     },
     "execution_count": 128,
     "metadata": {},
     "output_type": "execute_result"
    }
   ],
   "source": [
    "s = 'babad'\n",
    "#s = 'cbbd'\n",
    "#s = 'abcdzdcab'\n",
    "\n",
    "solution = Solution() \n",
    "solution.longestPalindrome(s)"
   ]
  }
 ],
 "metadata": {
  "kernelspec": {
   "display_name": "Python 3",
   "language": "python",
   "name": "python3"
  },
  "language_info": {
   "codemirror_mode": {
    "name": "ipython",
    "version": 3
   },
   "file_extension": ".py",
   "mimetype": "text/x-python",
   "name": "python",
   "nbconvert_exporter": "python",
   "pygments_lexer": "ipython3",
   "version": "3.6.3"
  }
 },
 "nbformat": 4,
 "nbformat_minor": 2
}
